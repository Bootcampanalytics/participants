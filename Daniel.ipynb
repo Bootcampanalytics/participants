{
    "cells": [
        {
            "cell_type": "code", 
            "metadata": {
                "collapsed": false
            }, 
            "outputs": [
                {
                    "metadata": {}, 
                    "data": {
                        "text/plain": "[1] \"2017-03-29 02:37:41 CDT\""
                    }, 
                    "output_type": "display_data"
                }
            ], 
            "source": "Sys.time()", 
            "execution_count": 2
        }, 
        {
            "cell_type": "code", 
            "metadata": {
                "collapsed": true
            }, 
            "outputs": [], 
            "source": "", 
            "execution_count": null
        }
    ], 
    "nbformat": 4, 
    "metadata": {
        "kernelspec": {
            "display_name": "R with Spark 1.6", 
            "name": "r", 
            "language": "R"
        }, 
        "language_info": {
            "version": "3.3.2", 
            "mimetype": "text/x-r-source", 
            "codemirror_mode": "r", 
            "file_extension": ".r", 
            "name": "R", 
            "pygments_lexer": "r"
        }
    }, 
    "nbformat_minor": 0
}