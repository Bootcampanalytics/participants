{
    "nbformat": 4, 
    "cells": [
        {
            "cell_type": "code", 
            "execution_count": 1, 
            "source": "Sys.time()", 
            "metadata": {
                "collapsed": false
            }, 
            "outputs": [
                {
                    "data": {
                        "text/plain": "[1] \"2017-03-29 02:30:36 CDT\""
                    }, 
                    "metadata": {}, 
                    "output_type": "display_data"
                }
            ]
        }, 
        {
            "cell_type": "code", 
            "execution_count": null, 
            "source": "", 
            "metadata": {
                "collapsed": true
            }, 
            "outputs": []
        }
    ], 
    "metadata": {
        "kernelspec": {
            "display_name": "R with Spark 1.6", 
            "language": "R", 
            "name": "r"
        }, 
        "language_info": {
            "name": "R", 
            "version": "3.3.2", 
            "codemirror_mode": "r", 
            "pygments_lexer": "r", 
            "mimetype": "text/x-r-source", 
            "file_extension": ".r"
        }
    }, 
    "nbformat_minor": 0
}