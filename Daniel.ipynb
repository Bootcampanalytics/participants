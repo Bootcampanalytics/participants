{
    "nbformat_minor": 0, 
    "metadata": {
        "language_info": {
            "pygments_lexer": "r", 
            "name": "R", 
            "file_extension": ".r", 
            "codemirror_mode": "r", 
            "mimetype": "text/x-r-source", 
            "version": "3.3.2"
        }, 
        "kernelspec": {
            "language": "R", 
            "name": "r", 
            "display_name": "R with Spark 1.6"
        }
    }, 
    "nbformat": 4, 
    "cells": [
        {
            "execution_count": 3, 
            "metadata": {
                "collapsed": false
            }, 
            "source": "Sys.time()", 
            "outputs": [
                {
                    "metadata": {}, 
                    "data": {
                        "text/plain": "[1] \"2017-03-29 02:39:52 CDT\""
                    }, 
                    "output_type": "display_data"
                }
            ], 
            "cell_type": "code"
        }, 
        {
            "execution_count": null, 
            "metadata": {
                "collapsed": true
            }, 
            "source": "", 
            "outputs": [], 
            "cell_type": "code"
        }, 
        {
            "execution_count": null, 
            "metadata": {
                "collapsed": true
            }, 
            "source": "", 
            "outputs": [], 
            "cell_type": "code"
        }
    ]
}